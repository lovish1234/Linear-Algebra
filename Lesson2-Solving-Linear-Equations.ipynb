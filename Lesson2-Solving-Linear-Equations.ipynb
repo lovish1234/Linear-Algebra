{
 "cells": [
  {
   "cell_type": "markdown",
   "metadata": {},
   "source": [
    "### Linear Algebra 2 - Solving Linear System of Equations"
   ]
  },
  {
   "cell_type": "markdown",
   "metadata": {},
   "source": [
    "One common approach in mathematics is to construct a set of objects and define rules to maniuplate these objects. This is known as algebra. \n",
    "\n",
    "One such approach is known as linear algebra. Basically, linear algebra is the study of vectors. During early introduction  to vectors in high school years, we were introduced to them through physics classes having fourmulas such as  $ \\hspace{0.1in} \\vec{f} = m.\\vec{a}$. Back then, we imagined vectors as a scalar which also has a direction. We understood them through a geometric interpretation with an arrow. The length of the arrow dentote the magnitude and the head of the arrow pointed towards the direction of the vector.\n",
    "\n",
    "Moving on to the fresher/sophomore year in university, we were introduced to vectors as an abstract concept. \n",
    "\n",
    "Finally, for people who have pursued degrees in engineering disciplines, vector appeared in another avatar $\\mathbb{R}^{n}$ or a list of n numbers. These list of number often represent some \"data\" which needs to be analyzed. \n",
    "\n",
    "In this course, we would refresh all of these interpretations and try to connect them in a coherent manner. We would use the \"school\" interpretation of vectors to help visualize and understand \"university-fresher\" and \"engineer\" representation. Another point to be noted is that this course is bit leaning towards the \"university-fresher\" representation of the matrix as it forms basis of linear algebra. Some resources pertaining other interpretations are listed below in this document."
   ]
  },
  {
   "cell_type": "markdown",
   "metadata": {},
   "source": [
    "**What is a vector?**\n",
    "\n",
    "Vector is a special entity which can be added together and multiplied by scalars to produce another object which is also a vector.\n",
    "\n",
    "- Geometric Vectors - Two geometric vectors $\\textbf{x},\\textbf{y}$ can be added leading to another vector $\\textbf{z}$. They can also be multiplied by a scalar $\\lambda \\in \\mathbb{R}$ and the result is again a vector. Therefor geometric vectors are instances of the vector concepts defined above.\n",
    "\n",
    "- Polynomials ??\n",
    "    - Addition of two polynomials result in another polynomial\n",
    "    - Multiplication of a polynomial with a scalar also results in a polynomial\n",
    "    - Most importantly, elements of $\\mathbb{R}^{n}$, the tuple of n real numbers are also vectors.\n",
    "    \n",
    "<img src=\"./images/chap2/Vectors_Polynomials.png\" width=600 height=300 >    "
   ]
  },
  {
   "cell_type": "markdown",
   "metadata": {},
   "source": [
    "**Closure of space**\n",
    "\n",
    "One of the interesting ideas in algebra, or more generally in mathematics is \"closure\". It means what are the set of entities which can be obtained after performing the proposed operations. In the context of vectors, what are the set of vectors we obtain starting with a small set of vectors, adding them to each other and scaling them. This is called **vector space**.\n",
    "\n",
    "**The concept of vector space forms the basis of much of machine learning**\n"
   ]
  },
  {
   "cell_type": "markdown",
   "metadata": {},
   "source": [
    "**System of linear equations and how to solve them ?**\n",
    "\n",
    "Why are we learning this ? \n",
    "\n",
    "Because it helps to :-\n",
    "\n",
    "- Determine if the set of vectors are linearly dependent\n",
    "- Determine the rank of a matrix\n",
    "- Determine the basis of vector space\n",
    "- Compute determinent of a matrix\n",
    "- Determine if a vector $\\textbf{b} \\in \\mathbb{R}^{m}$ is in the span of columns of $\\textbf{A} \\in \\mathbb{R}^{m\\times n}$ by solving $\\textbf{A}\\textbf{x}=\\textbf{b}$. If $m > n$, then then the column space has less number of dimensions than output space. COMPLETE THIS\n",
    "\n",
    "What would we learn in this section ?\n",
    "\n",
    "- Particular and general solutions to the equation\n",
    "- Importance of Row Echelon and Reduced Row Echelon Form of a matrix\n",
    "- Gauss Elimination"
   ]
  },
  {
   "cell_type": "markdown",
   "metadata": {},
   "source": [
    "A set of equations can have unique solution, no solution or infinitely many solutions.\n",
    "\n",
    "Set 1\n",
    "$$ x_{1} + x_{2} + x_{3} = 3  $$\n",
    "$$ x_{1} - x_{2} + 2x_{3} = 2 $$\n",
    "$$ 2x_{1} + 3x_{3} = 1 $$\n",
    "\n",
    "Set 2\n",
    "$$ x_{1} + x_{2} + x_{3} = 3  $$\n",
    "$$ x_{1} - x_{2} + 2x_{3} = 2 $$\n",
    "$$ x_{2} + x_{3} = 2 $$\n",
    "\n",
    "Set 3\n",
    "$$ x_{1} + x_{2} + x_{3} = 3  $$\n",
    "$$ x_{1} - 2x_{2} + x_{3} = 2 $$\n",
    "$$ 2x_{1} + 3x_{3} = 5 $$"
   ]
  },
  {
   "cell_type": "markdown",
   "metadata": {},
   "source": [
    "Let us change the way we write the above equations\n",
    "\n",
    "\\begin{align}\n",
    "x_{1}\\begin{bmatrix}a_{11}\\\\\\vdots\\\\a_{m1}\\end{bmatrix}+x_{2}\\begin{bmatrix}a_{12}\\\\\\vdots\\\\a_{m2}\\end{bmatrix}+\\cdots+x_{n}\\begin{bmatrix}a_{1n}\\\\\\vdots\\\\a_{mn}\\end{bmatrix} = \\begin{bmatrix}b_{1}\\\\\\vdots\\\\b_{m}\\end{bmatrix} \\Leftrightarrow   \\begin{bmatrix} a_{11} & \\cdots & a_{1n}\\\\ \\vdots & \\vdots & \\vdots \\\\ a_{m1} & \\cdots & a_{mn}\\end{bmatrix} \\begin{bmatrix} x_{1}\\\\ \\vdots \\\\ x_{n}\\end{bmatrix}=\\begin{bmatrix} b_{1}\\\\ \\vdots \\\\ b_{n}\\end{bmatrix}\n",
    "\\end{align}\n",
    "\n",
    "On the right side is something we call the compact representation of linear system of equations. We can write it as :-\n",
    "\n",
    "$$ \\textbf{A}\\textbf{x} = \\textbf{b}$$\n",
    "\n",
    "Note that this representation multiplies columns of the matrix with the individual entries in vector $\\textbf{x}$."
   ]
  },
  {
   "cell_type": "markdown",
   "metadata": {},
   "source": [
    "There is no rigid format to write the variable vector to the right of coefficient matrix. We can also write the variable vector to the left of the coefficient vector as below :-\n",
    "\n",
    "$$ x_{1}\\begin{bmatrix} a_{11} & \\cdots & a_{1m} \\end{bmatrix} + x_{2}\\begin{bmatrix} a_{21} & \\cdots & a_{2m} \\end{bmatrix} + \\cdots + x_{n} \\begin{bmatrix} a_{11} & \\cdots & a_{1m} \\end{bmatrix} \\Leftrightarrow   \\begin{bmatrix} x_{1} & \\cdots & x_{n} \\end{bmatrix} \\begin{bmatrix} a_{11} & \\cdots & a_{1n} \\\\ \\vdots & \\vdots & \\vdots \\\\ a_{m1} & \\cdots & a_{mn}\\end{bmatrix} = \\begin{bmatrix} b_{1} & \\cdots & b_{n}\\end{bmatrix}$$\n",
    "\n",
    "Note that this representation involves multiplying rows of the matrix with individual entries of the transpose of the vector $\\textbf{x}$. In a compact representation, we can write it as :-\n",
    "\n",
    "$$ \\textbf{x}^{T}\\textbf{A} = \\textbf{b}^{T}$$"
   ]
  },
  {
   "cell_type": "markdown",
   "metadata": {},
   "source": [
    "Let's digress a bit towards something called a **matrix**. A matrix is a set of vector which can be used to compactly represent linear equations and linear transformations of a vector space."
   ]
  },
  {
   "cell_type": "markdown",
   "metadata": {},
   "source": [
    "**Solving the linear system of equations**\n",
    "\n"
   ]
  },
  {
   "cell_type": "markdown",
   "metadata": {},
   "source": [
    "Suppose we are given a system of linear equations :-\n",
    "\n",
    "\\begin{align}\n",
    "\\begin{bmatrix} 1 & 0 & 8 & -4 \\\\ 0 & 1 & 2 & 12 \\end{bmatrix}\\begin{bmatrix}x_{1}\\\\x_{2}\\\\x_{3}\\\\x_{4}\\end{bmatrix} = \\begin{bmatrix}42\\\\8\\end{bmatrix}\n",
    "\\end{align}\n",
    "\n",
    "Notice the first two columns of this linear equation, do you see something there ?? We need to find the values $x_{i}$'s such that the following is satisfied :-\n",
    "\n",
    "$$ \\sum_{i=1}^{4}x_{i}\\textbf{c}_{i} = \\textbf{b}$$ where $\\textbf{c}_{i}$ are the columns of $\\textbf{A}$"
   ]
  },
  {
   "cell_type": "markdown",
   "metadata": {},
   "source": [
    "**Particular Solution**\n",
    "\n",
    "A solution to the equation can be found by taking 42 times first column and 8 times the second column.\n",
    "\n",
    "\\begin{align}\n",
    "b=\\begin{bmatrix} 42 \\\\ 8\\end{bmatrix} = 42\\begin{bmatrix} 1 \\\\ 0\\end{bmatrix}+8\\begin{bmatrix} 0 \\\\ 1\\end{bmatrix}\n",
    "\\end{align}\n",
    "\n",
    "So one **particular solution** to the equation is $[42,8,0,0]^{T}$. However, this is not the only solution to the above equations. So what do we need to do to find all the other solutions to the above equation ??"
   ]
  },
  {
   "cell_type": "markdown",
   "metadata": {},
   "source": [
    "**General Solution**\n",
    "\n",
    "To find the other solutions, we need to generate 0 using the existing columns in a non-trivial way. Adding 0 to the **particular solution** does not change the solution. \n",
    "\n",
    "To do so, we can express any other column as the sum of first two columns. For the third column, we can write\n",
    "\n",
    "\\begin{align}\n",
    "\\begin{bmatrix} 8 \\\\ 2\\end{bmatrix} = 8\\begin{bmatrix} 1 \\\\ 0\\end{bmatrix}+2\\begin{bmatrix} 0 \\\\ 1\\end{bmatrix}\n",
    "\\end{align}\n",
    "\n",
    "This means that $8\\textbf{c}_{1}+2\\textbf{c}_{2}-1\\textbf{c}_{3}+0\\textbf{c}_{4}= \\textbf{0}$ and $[8,2,-1,0]^{T}$ is a solution of $\\textbf{A}\\textbf{x}=\\textbf{0}$. In fact, any scaling of $[8,2,-1,0]^{T}$ by $\\lambda_{1} \\in \\mathbb{R}$ produces the $\\textbf{0}$ vector.\n",
    "\n",
    "\\begin{align}\n",
    "\\begin{bmatrix} 1 & 0 & 8 & -4 \\\\ 0 & 1 & 2 & 12 \\end{bmatrix} \\begin{pmatrix} \\lambda_{1}\\begin{bmatrix}8\\\\2\\\\-1\\\\0\\end{bmatrix} \\end{pmatrix}= \\begin{bmatrix}0\\\\0\\end{bmatrix}\n",
    "\\end{align}\n",
    "\n",
    "Similarly, we can denote the fourth column as the sum of first two columns.\n",
    "\n",
    "\\begin{align}\n",
    "\\begin{bmatrix} 1 & 0 & 8 & -4 \\\\ 0 & 1 & 2 & 12 \\end{bmatrix} \\begin{pmatrix} \\lambda_{1}\\begin{bmatrix}-4\\\\12\\\\0\\\\-1\\end{bmatrix} \\end{pmatrix}= \\begin{bmatrix}0\\\\0\\end{bmatrix}\n",
    "\\end{align}\n",
    "\n",
    "Finally, putting eveything together, we obtain a general solution to the linear system of equations which we call **general solution**.\n",
    "\n",
    "\\begin{align}\n",
    "x=\\begin{bmatrix}42\\\\8\\\\0\\\\0\\end{bmatrix} + \\begin{pmatrix} \\lambda_{1}\\begin{bmatrix}8\\\\2\\\\-1\\\\0\\end{bmatrix} \\end{pmatrix} + \\begin{pmatrix} \\lambda_{1}\\begin{bmatrix}-4\\\\12\\\\0\\\\-1\\end{bmatrix} \\end{pmatrix}, \\lambda_{1},\\lambda_{2} \\in \\mathbb{R}\n",
    "\\end{align}\n"
   ]
  },
  {
   "cell_type": "markdown",
   "metadata": {},
   "source": [
    "**Steps for finding the general solution of a equation**\n",
    "\n",
    "- Find a particular solution to $\\textbf{A}\\textbf{x}=\\textbf{b}$\n",
    "- Find all solutions to $\\textbf{A}\\textbf{x}=\\textbf{0}$\n",
    "- Combine step 1 and 2 to get a general solution"
   ]
  },
  {
   "cell_type": "markdown",
   "metadata": {},
   "source": [
    "Suppose we are given any other system of equation, the above method may not directly apply on it because it may not have a convinent form that allowed us to find a particular and general solution by inspection. So, we need a definate way of transforming linear equation system into simple form. This is called **Gaussian Elimination**."
   ]
  },
  {
   "cell_type": "markdown",
   "metadata": {},
   "source": [
    "Before we go onto learning about Gaussian elimination, we need to know a key idea - **Elementary Transformations**. These transformations keep the solution to the set equations the same.\n",
    "\n",
    "- Exchange of two equations (or row in the matrix representing the equation system)\n",
    "- Multiplication of an equation with a constant $\\lambda \\in \\mathbb{R} \\setminus \\{0\\}$\n",
    "- Addition of an equation(row) to another equation(row)"
   ]
  },
  {
   "cell_type": "markdown",
   "metadata": {},
   "source": [
    "Now find the solution for the given linear system of equations :-\n",
    "\n",
    "$$ -2x_{1} + 4x_{2} - 2x_{3} - x_{4} + 4x_{5} = -3 $$\n",
    "$$ 4x_{1} - 8x_{2} + 3x_{3} - 3x_{4} + x_{5} = 2 $$\n",
    "$$ x_{1} - 2x_{2} + x_{3} - x_{4} + x_{5} = 0 $$\n",
    "$$ x_{1} - 2x_{2} - 3x_{4} + 4x_{5} = a$$\n",
    "\n",
    "where $a \\in \\mathbb{R}$\n",
    "\n",
    "Solve using augmented matrix. \n",
    "\n",
    "\n",
    "\\begin{equation}\n",
    "\\begin{bmatrix}-2 & 4 & -2 & -1 & 4 &  -3\\\\  4 & -8 & 3 & -3 & 1 &  2\\\\  1 & -2 & 1 & -1 & 1 &  0\\\\ 1 & -2 & 0 & -3 & 4 &  a\\\\ \\end{bmatrix}\n",
    "\\end{equation}\n",
    "\n",
    "We should try to apply the above three operations in such a way that we get a structure \"simiar\" to that of the previous equation.\n",
    "\n",
    "Step 1 Take the row with least first element to the top row. Here we exachange the first row with the third row. $R_{1} \\leftrightarrow R_{3}$ \n",
    "\n",
    "\\begin{equation}\n",
    "\\begin{bmatrix}  1 & -2 & 1 & -1 & 1 &  0 \\\\  4 & -8 & 3 & -3 & 1 &  2\\\\ -2 & 4 & -2 & -1 & 4 &  -3\\\\ 1 & -2 & 0 & -3 & 4 &  a\\\\ \\end{bmatrix}\n",
    "\\end{equation}\n",
    "\n",
    "Step 2. Now we can substract rest of the three rows by first row such that their first element becomes 0. $R_{2} \\rightarrow R_{2}-4R_{1}$, $R_{2} \\rightarrow R_{3}+2R_{1}$, $R_{4} \\rightarrow R_{4}-R_{1}$ \n",
    "\n",
    "\\begin{equation}\n",
    "\\begin{bmatrix}  1 & -2 & 1 & -1 & 1 &  0 \\\\  0 & 0 & -1 & 1 & -3 &  2\\\\ 0 & 0 & 0 & -3 & 6 &  -3\\\\ 0 & 0 & -1 & -2 & 3 &  a\\\\ \\end{bmatrix}\n",
    "\\end{equation}\n",
    "\n",
    "Step 3. Again we see that both row 2 and row 4 has same first non-zero element ie -1. Hence, $R_{4} \\rightarrow R_{4} - R_{2}$\n",
    "\n",
    "\\begin{equation}\n",
    "\\begin{bmatrix}  1 & -2 & 1 & -1 & 1 &  0 \\\\  0 & 0 & -1 & 1 & -3 &  2\\\\ 0 & 0 & 0 & -3 & 6 &  -3\\\\ 0 & 0 & 0 & -3 & 6 &  a-2\\\\ \\end{bmatrix}\n",
    "\\end{equation}\n",
    "\n",
    "Step 4. Complete rest of the reduction procedure on your own. Finally you would have the following matrix :-\n",
    "\n",
    "\\begin{equation}\n",
    "\\begin{bmatrix}  1 & -2 & 1 & -1 & 1 &  0 \\\\  0 & 0 & -1 & 1 & 3 &  -2\\\\ 0 & 0 & 0 & 1 & -2 &  1\\\\ 0 & 0 & 0 & 0 & 0 &  a+1\\\\ \\end{bmatrix}\n",
    "\\end{equation}\n",
    "\n",
    "But still, we havn't done anything to solve the equation. We have just reduced it to the form which can be solved conveniently. This is called row echelon form (REF). Reverting back to the equation format, we get :-\n",
    "\n",
    "$$ x_{1} - 2x_{2} +x_{3}-x_{4}+x{5} = 0$$\n",
    "$$ x_{3}-x_{4}+3x_{5} = -2$$\n",
    "$$ x_{4}-2x_{5}=1$$\n",
    "$$ 0 = a+1$$\n",
    "\n",
    "**Can you find the particular and general solution to the equation now ?**\n"
   ]
  },
  {
   "cell_type": "markdown",
   "metadata": {},
   "source": [
    "**Pivot and the Staircase Structure**\n",
    "\n",
    "The leading coefficient of the row is called pivot and is always strictly to the right of the leading coefficient of the row above it. This makes sure that equation system in row echelon form has \"staircase structure\". "
   ]
  },
  {
   "cell_type": "markdown",
   "metadata": {},
   "source": [
    "**Row Echelon Form**\n",
    "\n",
    "- All the nonzero rows are above nay rows of all zeros . If there are rows with all zero elements, they must belong to the bottom of the matrix.\n",
    "- The leading coefficient of nonzero row is always strictly to the right of the leading coefficient of the row above it.\n",
    "\n",
    "The variables correspopnding to the pivots in row echelon form are called **basic variables**. Other variables are called **free variables**. In the example above, $x_{1},x_{3},x_{4}$ are basic variables and $x_{2},x_{5}$ are free variables.\n",
    "\n",
    "**What are the benefits of reduced row echelon form ?**\n",
    "\n",
    "\\begin{equation}\n",
    "\\begin{bmatrix}  1 & -2 & 1 & -1 & 1 &  0 \\\\  0 & 0 & -1 & 1 & -3 &  2\\\\ 0 & 0 & 0 & 1 & -2 &  1\\\\ 0 & 0 & 0 & 0 & 0 &  a+1\\\\ \\end{bmatrix}\n",
    "\\end{equation}\n",
    "\n",
    "Let's look at the elements corresponding to the columns which have pivot variables. This means that the second and fourth column can be removed.\n",
    "\n",
    "\\begin{equation}\n",
    "\\begin{bmatrix}  1  & 1 & -1 &  0 \\\\  0 & 1  & -1 &  2\\\\ 0 & 0  & 1 &  1\\\\ 0 & 0  & 0 &  a+1\\\\ \\end{bmatrix}\n",
    "\\end{equation}\n",
    "\n",
    "We can express the right hand side of the equation system using the pivot columns, such that $b=\\sum_{i=1}^{P}\\lambda_{i}p_{i}$ where $p_{i}$ are the pivot columns. we can determine $\\lambda_{i}$ in a convenient manner if we start from the right most pivot column and work our way towards the left. For the example above, we try to find $\\lambda_{1},\\lambda_{2},\\lambda_{3}$ such that\n",
    "\n",
    "\\begin{align}\n",
    "\\lambda_{1}\\begin{bmatrix}1\\\\0\\\\0\\\\0\\end{bmatrix}+\\lambda_{2}\\begin{bmatrix}1\\\\1\\\\0\\\\0\\end{bmatrix}+\\lambda_{3}\\begin{bmatrix}-1\\\\-1\\\\1\\\\0\\end{bmatrix} = \\begin{bmatrix}0\\\\-2\\\\1\\\\0\\end{bmatrix}\n",
    "\\end{align}\n",
    "\n",
    "Now, working from the right-most pivot column, we can work our way towards the left. "
   ]
  },
  {
   "cell_type": "markdown",
   "metadata": {},
   "source": [
    "**Reduced Row Echelon Form**\n",
    "\n",
    "An equation is set to be in reduced row echelon form when :-\n",
    "\n",
    "- It is in row echelon form\n",
    "- Every pivot must be 1\n",
    "- The pivot is only non-zero entry in its column\n",
    "\n",
    "Reduced Row Echelon Form helps us in finding general solution to the set of equations. The key for finding the seolutions of $\\textbf{A}\\textbf{x}=\\textbf{0}$ is to look at the *non-pivot columns* which we need to express as a linear combination of the pivot columns. The RREF makes this easier through as we can express the non-pivot columns in terms of the sums and multiples of pivot columns on their left. As an example take the following matrix :-\n",
    "\n",
    "\\begin{align}\n",
    "A=\\begin{bmatrix}1 & 3 & 0 & 0 & 3 \\\\ 0 & 0 & 1 & 0 & 9 \\\\ 0 & 0 & 0 & 1 & -4\\end{bmatrix}\n",
    "\\end{align}\n",
    "\n",
    "The above matrix is in RREF. We can express the second column as 3 times the first column; in the same way, fifth column can be expressed as 3 times the first column, 9 times the third column and -4 times the fourth column. Hence the solution to $\\textbf{A}\\textbf{x}=\\textbf{0}$ are :-\n",
    "\n",
    "\\begin{align}\n",
    "x = \\lambda_{1}\\begin{bmatrix}3\\\\-1\\\\0\\\\0\\\\0\\end{bmatrix}+\\lambda_{2}\\begin{bmatrix}3\\\\0\\\\9\\\\-4\\\\1\\end{bmatrix} \\lambda_{1},\\lambda_{2} \\in \\mathbb{R}\n",
    "\\end{align}"
   ]
  },
  {
   "cell_type": "markdown",
   "metadata": {},
   "source": [
    "The solution to the equation  $\\textbf{A}\\textbf{x}=\\textbf{0}$ is called the null space of matrix A"
   ]
  },
  {
   "cell_type": "code",
   "execution_count": null,
   "metadata": {},
   "outputs": [],
   "source": [
    "- TODO - The -1 trick \n",
    "- Null space of the matrix defined visually"
   ]
  }
 ],
 "metadata": {
  "kernelspec": {
   "display_name": "Python 2",
   "language": "python",
   "name": "python2"
  },
  "language_info": {
   "codemirror_mode": {
    "name": "ipython",
    "version": 2
   },
   "file_extension": ".py",
   "mimetype": "text/x-python",
   "name": "python",
   "nbconvert_exporter": "python",
   "pygments_lexer": "ipython2",
   "version": "2.7.13"
  }
 },
 "nbformat": 4,
 "nbformat_minor": 2
}
