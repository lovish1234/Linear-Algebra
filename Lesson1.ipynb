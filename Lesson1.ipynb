{
 "cells": [
  {
   "cell_type": "markdown",
   "metadata": {},
   "source": [
    "  ##                                                           Linear Algebra for Machine Learning - ARL 101"
   ]
  },
  {
   "cell_type": "markdown",
   "metadata": {},
   "source": [
    "### Charter of this course\n",
    "\n",
    "Following are the core values of the course.\n",
    "- Learn linear algebra to be comfortable with Machine Learning\n",
    "- Learn through visualization and examples"
   ]
  },
  {
   "cell_type": "markdown",
   "metadata": {},
   "source": [
    "### Syllabus of this course\n",
    "\n",
    "\n",
    "- Scalar, Vectors & Tensors \n",
    "- Vector Spaces & related aspects\n",
    "- Determinant of the Matrix\n",
    "- Inverse of a linear transormation or Matrix\n",
    "- Eigenvalues and Eigenvectors \n",
    "- The \"Symmytric\" Matrix\n",
    "- Singular Value Decomposition\n",
    "- Pseudo-Inverse of a Matrix & it's applications\n",
    "- Principal Component Analysis \n",
    "- Linear Discriminant Analysis\n",
    "\n"
   ]
  },
  {
   "cell_type": "markdown",
   "metadata": {},
   "source": [
    "### Conventions of this course\n",
    "\n",
    "Conventions used in the course are same as used in Deep Learning book by Deep Learning book\n",
    "\n",
    "- scalars are written in lowecase and *italics*. \n",
    "- vectors "
   ]
  },
  {
   "cell_type": "markdown",
   "metadata": {},
   "source": [
    "### Let's start...\n",
    "\n",
    "**Linear Algebra** is a branch of mathematics that deals with linear equations.\n",
    "\n",
    "The following is an example of a linear equantion :-\n",
    "\n",
    "$a_{1}x_{1}+ \\cdots +a_{n}x_{n} = b$\n",
    "\n",
    "The LHS in the above equation can be written as a transformation of $(x_{1},\\cdots,x_{n})$ to $(a_{1}x_{1}+\\cdots+a_{n}x_{n})$"
   ]
  },
  {
   "cell_type": "code",
   "execution_count": null,
   "metadata": {},
   "outputs": [],
   "source": []
  },
  {
   "cell_type": "markdown",
   "metadata": {},
   "source": [
    "#### Brief History of Linear Algebra \n",
    "\n",
    "Initially, the field started from the introduction of determinents for solving the system of linear equations. \n",
    "\n",
    "Liebniz --> Cramer --> Gauss"
   ]
  },
  {
   "cell_type": "markdown",
   "metadata": {},
   "source": [
    "#### What is a vector space ?"
   ]
  },
  {
   "cell_type": "markdown",
   "metadata": {},
   "source": [
    "#### What is a linear transformation ?\n",
    "\n",
    "To transform the vector space such that it preserves **certain properties** of the vector space structure.\n",
    "\n",
    "T : V $\\rightarrow$ W\n",
    "\n",
    "- $\\vec{0} \\rightarrow \\vec{0}$ ie. the null vector corresponding to vector space V should be mapped to the null vector in vector space W\n",
    "- The lines which are parallel in vector space V should remain parallel in the vector space W\n",
    "\n",
    "##### Geometric significance of linear transofmation"
   ]
  },
  {
   "cell_type": "markdown",
   "metadata": {},
   "source": [
    "#### Isomorphic Vector spaces\n",
    "\n",
    "When a bijective mapping exists between two vector spaces V and W ie every vector in W has **exactly** one vector in V associated with it, we call them isomorphic. \n",
    "\n",
    "##### How to check if two vector spaces are isomorphic ?"
   ]
  },
  {
   "cell_type": "markdown",
   "metadata": {},
   "source": [
    "#### Null space (Kernel) of a matrix \n",
    "\n",
    "If the mapping is not isomorphic, we are interested in the range of elements in V what get mapped to 0 in W. We call this the null space of T\n",
    "\n",
    "If the determinant is non-zero, then the null space is trivial to find."
   ]
  },
  {
   "cell_type": "markdown",
   "metadata": {},
   "source": [
    "#### Subspaces, Basis and Span \n",
    "\n",
    "Both the range and kernel of a linear subspace is a vector space. A simple way to define a subspace is take a set of vectors $(v_{1}, v_{2}, v_{3} \\cdots, v_{n})$. \n",
    "\n",
    "$$a_{1}v_{1}+a_{2}v_{2}+\\cdots+a_{n}v_{n}$$\n",
    "\n",
    "where $a_{1}, a_{2}, \\cdots , a_{n}$ are scalars. The set of linear combinations of vectors $(v_{1}, v_{2}, v_{3} \\cdots, v_{n})$ is called subspace. \n",
    "\n",
    "A linear combination of any system of vectors with all zero coefficients is the **zero vector** of V. If this is the only way to express the zero vector as a linear combination of $(v_{1}, v_{2}, ..., v_{k})$ then these vectors are linearly independent.\n",
    "\n",
    "If we are given a set of vectors that span a subspace, if any vector w is a linear comvination of other vectors then we may also remove the vector w without affecting the span. Thus, we can say that a linearly dependent subset of vectors is redundant in the sense that we can span the same subspace after removing one (or more) of the vectors. \n",
    "\n",
    "We call a set of linerly independent vectors that span a subspace V as the **basis** of V. "
   ]
  },
  {
   "cell_type": "markdown",
   "metadata": {},
   "source": [
    "#### Eigenvectors and Eigenvalues \n",
    "\n"
   ]
  },
  {
   "cell_type": "markdown",
   "metadata": {},
   "source": [
    "#### References\n",
    "\n",
    "[1] __[Wikipedia-Linear Algebra](https://en.wikipedia.org/wiki/Linear_algebra)__\n",
    "\n",
    "[2] __[3Blue1Brown - Essence of Linear Algebra](https://www.youtube.com/watch?v=kjBOesZCoqc&list=PLZHQObOWTQDPD3MizzM2xVFitgF8hE_ab)__\n",
    "\n",
    "[3] __[Deep Learning by Goodfellow et al - Chapter 2 ](https://hadrienj.github.io/posts/Deep-Learning-Book-Series-Introduction/)__"
   ]
  },
  {
   "cell_type": "code",
   "execution_count": null,
   "metadata": {},
   "outputs": [],
   "source": []
  }
 ],
 "metadata": {
  "kernelspec": {
   "display_name": "Python 2",
   "language": "python",
   "name": "python2"
  },
  "language_info": {
   "codemirror_mode": {
    "name": "ipython",
    "version": 2
   },
   "file_extension": ".py",
   "mimetype": "text/x-python",
   "name": "python",
   "nbconvert_exporter": "python",
   "pygments_lexer": "ipython2",
   "version": "2.7.13"
  }
 },
 "nbformat": 4,
 "nbformat_minor": 2
}
