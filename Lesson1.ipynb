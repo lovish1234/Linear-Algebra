{
 "cells": [
  {
   "cell_type": "markdown",
   "metadata": {},
   "source": [
    "  ##                                                           Linear Algebra for Machine Learning - ARL 101"
   ]
  },
  {
   "cell_type": "markdown",
   "metadata": {},
   "source": [
    "### Charter of this course\n",
    "\n",
    "Following are the core values of the course.\n",
    "- Learn linear algebra to be comfortable with Machine Learning\n",
    "- Learn through visualization and examples"
   ]
  },
  {
   "cell_type": "markdown",
   "metadata": {},
   "source": [
    "### Syllabus of this course\n",
    "\n",
    "\n",
    "- Scalar, Vectors & Tensors \n",
    "- Vector Spaces & related aspects\n",
    "- Determinant of the Matrix\n",
    "- Inverse of a linear transormation or Matrix\n",
    "- Eigenvalues and Eigenvectors \n",
    "- The \"Symmytric\" Matrix\n",
    "- Singular Value Decomposition\n",
    "- Pseudo-Inverse of a Matrix & it's applications\n",
    "- Principal Component Analysis \n",
    "- Linear Discriminant Analysis\n",
    "\n"
   ]
  },
  {
   "cell_type": "markdown",
   "metadata": {},
   "source": [
    "### Conventions of this course\n",
    "\n",
    "Conventions used in the course are same as used in Deep Learning book by Deep Learning book\n",
    "\n",
    "- scalars are written in lowecase and *italics*. \n",
    "- vectors "
   ]
  },
  {
   "cell_type": "markdown",
   "metadata": {},
   "source": [
    "### Motivation\n",
    "\n",
    "Some of the common operations that we are already introduced to in high school or during freshmen year are :-\n",
    "\n",
    "**Matrix Multiplication**\n",
    "\n",
    "$$\n",
    "M=\n",
    "  \\begin{bmatrix}\n",
    "    a & b\\\\\n",
    "    c & d\n",
    "  \\end{bmatrix}\n",
    "    \\begin{bmatrix}\n",
    "    e & f\\\\\n",
    "    g & h\n",
    "  \\end{bmatrix} =\n",
    "  \\begin{bmatrix}\n",
    "    ae+bg & af+bh\\\\\n",
    "    ce+dg & cf+dh\n",
    "  \\end{bmatrix}\n",
    "$$\n",
    "\n",
    "**Determinant**\n",
    "\n",
    "$$\n",
    "D = det(\n",
    "  \\begin{bmatrix}\n",
    "    a & b\\\\\n",
    "    c & d\n",
    "  \\end{bmatrix}\n",
    ") = (ad - bc)\n",
    "$$\n",
    "\n",
    "**Cross Product**\n",
    "\n",
    "$$\n",
    "C = det(\n",
    "  \\begin{bmatrix}\n",
    "    \\hat{i} & \\hat{j} & \\hat{k} \\\\\n",
    "    a & b & c \\\\\n",
    "    d & e & f\n",
    "  \\end{bmatrix}\n",
    ")\n",
    "$$\n",
    "\n",
    "** Eigenvalues **\n",
    "\n",
    "$$E = det(A - \\lambda I) = 0$$"
   ]
  },
  {
   "cell_type": "markdown",
   "metadata": {},
   "source": [
    "Through this lecture series, let's try to get a feel of why matrix multiplication is defined the way it is ? Why does cross product has anything to do with determinant of the matrix ? What does \"eigen\" or \"singular\" value mean ?"
   ]
  },
  {
   "cell_type": "markdown",
   "metadata": {},
   "source": [
    "### Let's start...\n",
    "\n",
    "There are a few ways of of looking at a vector. The first and the most \"intuitive\" is to imagine an arrow in space. This is how we interpret vectors in real world eg. with a magnitude and direction. We call it intuitive as geometrical space will help us in getting an insight into many of operations in linear algebra which may seem rather abstract otherwise.\n",
    "\n",
    "<img src=\"images/chap1/arrow.png\" height=\"100\" width=\"100\" >\n",
    "\n",
    "The second way is to look at a vector is to look at it as a list of numbers. This is essentialy useful in numerical computations.\n",
    "\n",
    "$$ V = \n",
    "  \\begin{bmatrix}\n",
    "    1 \\\\\n",
    "    3\n",
    "  \\end{bmatrix}\n",
    "$$\n",
    "\n",
    "In a more abstract way, a vector can also be written as $\\hat{v}$. \n",
    "\n",
    "More generally, the theory of linear algebra is easy to appreciate through the interplay of first two perspectives ie arrow space. \n",
    "\n",
    "<img src=\"images/chap1/2WayVec.png\" height=\"100\" width=\"150\" >"
   ]
  },
  {
   "cell_type": "markdown",
   "metadata": {},
   "source": [
    "**Linear Algebra** is a branch of mathematics that deals with linear equations.\n",
    "\n",
    "The following is an example of a linear equantion :-\n",
    "\n",
    "$a_{1}x_{1}+ \\cdots +a_{n}x_{n} = b$\n",
    "\n",
    "The LHS in the above equation can be written as a transformation of $(x_{1},\\cdots,x_{n})$ to $(a_{1}x_{1}+\\cdots+a_{n}x_{n})$"
   ]
  },
  {
   "cell_type": "markdown",
   "metadata": {},
   "source": [
    "#### Brief History of Linear Algebra \n",
    "\n",
    "Initially, the field started from the introduction of determinents for solving the system of linear equations. \n",
    "\n",
    "Liebniz --> Cramer --> Gauss"
   ]
  },
  {
   "cell_type": "markdown",
   "metadata": {},
   "source": [
    "#### What is a vector space ?"
   ]
  },
  {
   "cell_type": "markdown",
   "metadata": {},
   "source": [
    "**What is the basis of a vector space ?**\n",
    "\n",
    "Set of linearly independent vectors that span that space.\n",
    "\n",
    "You can change the basis vectors from the standard basis $\\hat{i}$ and $\\hat{j}$"
   ]
  },
  {
   "cell_type": "markdown",
   "metadata": {},
   "source": [
    "** What is the linear combination of two vectors ? **"
   ]
  },
  {
   "cell_type": "markdown",
   "metadata": {},
   "source": [
    "** What is the span of two vectors $\\hat{v}$ and $\\hat{w}$ ? **"
   ]
  },
  {
   "cell_type": "markdown",
   "metadata": {},
   "source": [
    "** What is linear dependence ? **"
   ]
  },
  {
   "cell_type": "markdown",
   "metadata": {},
   "source": [
    "#### What is a linear transformation ?\n",
    "\n",
    "To transform the vector space such that it preserves **certain properties** of the vector space structure.\n",
    "\n",
    "T : V $\\rightarrow$ W\n",
    "\n",
    "- $\\vec{0} \\rightarrow \\vec{0}$ ie. the null vector corresponding to vector space V should be mapped to the null vector in vector space W\n",
    "- The lines which are parallel in vector space V should remain parallel in the vector space W\n",
    "\n",
    "##### Geometric significance of linear transofmation"
   ]
  },
  {
   "cell_type": "markdown",
   "metadata": {},
   "source": [
    "#### The Identity Matrix\n",
    "\n",
    "The identity matrix $I_{n}$. For example \n",
    "\n",
    "$$ $$"
   ]
  },
  {
   "cell_type": "markdown",
   "metadata": {},
   "source": [
    "#### Isomorphic Vector spaces\n",
    "\n",
    "When a bijective mapping exists between two vector spaces V and W ie every vector in W has **exactly** one vector in V associated with it, we call them isomorphic. \n",
    "\n",
    "##### How to check if two vector spaces are isomorphic ?"
   ]
  },
  {
   "cell_type": "markdown",
   "metadata": {},
   "source": [
    "#### Null space (Kernel) of a matrix \n",
    "\n",
    "If the mapping is not isomorphic, we are interested in the range of elements in V what get mapped to 0 in W. We call this the null space of T\n",
    "\n",
    "If the determinant is non-zero, then the null space is trivial to find."
   ]
  },
  {
   "cell_type": "markdown",
   "metadata": {},
   "source": [
    "#### Subspaces, Basis and Span \n",
    "\n",
    "Both the range and kernel of a linear subspace is a vector space. A simple way to define a subspace is take a set of vectors $(v_{1}, v_{2}, v_{3} \\cdots, v_{n})$. \n",
    "\n",
    "$$a_{1}v_{1}+a_{2}v_{2}+\\cdots+a_{n}v_{n}$$\n",
    "\n",
    "where $a_{1}, a_{2}, \\cdots , a_{n}$ are scalars. The set of linear combinations of vectors $(v_{1}, v_{2}, v_{3} \\cdots, v_{n})$ is called subspace. \n",
    "\n",
    "A linear combination of any system of vectors with all zero coefficients is the **zero vector** of V. If this is the only way to express the zero vector as a linear combination of $(v_{1}, v_{2}, ..., v_{k})$ then these vectors are linearly independent.\n",
    "\n",
    "If we are given a set of vectors that span a subspace, if any vector w is a linear comvination of other vectors then we may also remove the vector w without affecting the span. Thus, we can say that a linearly dependent subset of vectors is redundant in the sense that we can span the same subspace after removing one (or more) of the vectors. \n",
    "\n",
    "We call a set of linerly independent vectors that span a subspace V as the **basis** of V. "
   ]
  },
  {
   "cell_type": "markdown",
   "metadata": {},
   "source": [
    "#### Eigenvectors and Eigenvalues \n",
    "\n"
   ]
  },
  {
   "cell_type": "markdown",
   "metadata": {},
   "source": [
    "#### References\n",
    "\n",
    "[1] __[Wikipedia-Linear Algebra](https://en.wikipedia.org/wiki/Linear_algebra)__\n",
    "\n",
    "[2] __[3Blue1Brown - Essence of Linear Algebra](https://www.youtube.com/watch?v=kjBOesZCoqc&list=PLZHQObOWTQDPD3MizzM2xVFitgF8hE_ab)__\n",
    "\n",
    "[3] __[Deep Learning by Goodfellow et al - Chapter 2 ](https://hadrienj.github.io/posts/Deep-Learning-Book-Series-Introduction/)__"
   ]
  },
  {
   "cell_type": "code",
   "execution_count": null,
   "metadata": {},
   "outputs": [],
   "source": []
  }
 ],
 "metadata": {
  "kernelspec": {
   "display_name": "Python 2",
   "language": "python",
   "name": "python2"
  },
  "language_info": {
   "codemirror_mode": {
    "name": "ipython",
    "version": 2
   },
   "file_extension": ".py",
   "mimetype": "text/x-python",
   "name": "python",
   "nbconvert_exporter": "python",
   "pygments_lexer": "ipython2",
   "version": "2.7.13"
  }
 },
 "nbformat": 4,
 "nbformat_minor": 2
}
