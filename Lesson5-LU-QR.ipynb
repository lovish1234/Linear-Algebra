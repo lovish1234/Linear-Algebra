{
 "cells": [
  {
   "cell_type": "markdown",
   "metadata": {},
   "source": [
    "## Matrix Decomposition - LU and QR"
   ]
  },
  {
   "cell_type": "markdown",
   "metadata": {},
   "source": [
    "### LU Decomposition\n",
    "\n",
    "In numerical analysis and linear algebra, LU decomposition is used to factor a matrix into two matrices $\\textbf{L}$ and $\\textbf{U}$ which are lower triangular and upper triangluar matrices respectively. \n",
    "\n",
    "It helps in the following :-\n",
    "\n",
    "- Solving a system of linear equations through Gaussian elimination\n",
    "- Finding inverse of a matrix\n",
    "- Computing the determinant of a matrix\n",
    "\n",
    "$$\\textbf{A} = \\textbf{L}\\textbf{U}$$\n",
    "\n",
    "$$\\begin{bmatrix} a_{11} & a_{12} & a_{13} \\\\  a_{21} & a_{22} & a_{23} \\\\  a_{31} & a_{32} & a_{33} \\end{bmatrix}  = \\begin{bmatrix} l_{11} & 0 & 0 \\\\  l_{21} & l_{22} & 0 \\\\  l_{31} & a_{32} & a_{33} \\end{bmatrix} \\begin{bmatrix} u_{11} & u_{12} & u_{13} \\\\  u_{21} & u_{22} & 0 \\\\  u_{31} & 0 & 0 \\end{bmatrix}$$\n",
    "\n",
    "**What is the use of LU decomposition ?**\n",
    "\n",
    "It summerises the Gaussian elimination in matrix form.\n",
    "\n",
    "**What are the conditions for LU decomposition to exist ?**\n",
    "\n",
    "- A should be a square matrix \n",
    "- Permuation matrix should be 0\n",
    "\n",
    "Exapanding on the last point, it is not always possible to decompose the matrix into a lower triangular and upper triangular matrix, say if $a_{11}=0$ in original matrix then either $u_{11}$ or $l_{11}$ has to be 0. This means that either $\\textbf{L}$ or $\\textbf{U}$ should be non-invertible (All 0's in one row). However, this is not possible as  $\\textbf{A}$ is invertible. This problem can be solved by just reordering the rows of $\\textbf{A}$ so that the first element of permuted matrix is not 0."
   ]
  },
  {
   "cell_type": "markdown",
   "metadata": {},
   "source": [
    "### Application "
   ]
  },
  {
   "cell_type": "markdown",
   "metadata": {},
   "source": [
    "### QR Decomposition"
   ]
  },
  {
   "cell_type": "code",
   "execution_count": null,
   "metadata": {},
   "outputs": [],
   "source": []
  }
 ],
 "metadata": {
  "kernelspec": {
   "display_name": "Python 3",
   "language": "python",
   "name": "python3"
  },
  "language_info": {
   "codemirror_mode": {
    "name": "ipython",
    "version": 3
   },
   "file_extension": ".py",
   "mimetype": "text/x-python",
   "name": "python",
   "nbconvert_exporter": "python",
   "pygments_lexer": "ipython3",
   "version": "3.6.2"
  }
 },
 "nbformat": 4,
 "nbformat_minor": 2
}
