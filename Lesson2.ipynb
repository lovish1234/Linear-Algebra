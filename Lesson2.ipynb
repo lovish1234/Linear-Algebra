{
 "cells": [
  {
   "cell_type": "markdown",
   "metadata": {},
   "source": [
    "### Linear Algebra 2"
   ]
  },
  {
   "cell_type": "markdown",
   "metadata": {},
   "source": [
    "One common approach in mathematics is to construct a set of objects and define rules to maniuplate these objects. This is known as algebra. \n",
    "\n",
    "One such approach is known as linear algebra. Basically, linear algebra is the study of vectors. During early introduction  to vectors in high school years, we were introduced to them through physics classes having fourmulas such as  $ \\hspace{0.1in} \\vec{f} = m.\\vec{a}$. Back then, we imagined vectors as a scalar which also has a direction. We understood them through a geometric interpretation with an arrow. The length of the arrow dentote the magnitude and the head of the arrow pointed towards the direction of the vector.\n",
    "\n",
    "Moving on to the fresher/sophomore year in university, we were introduced to vectors as an abstract concept. \n",
    "\n",
    "Finally, for people who have pursued degrees in engineering disciplines, vector appeared in another avatar $\\mathbb{R}^{n}$ or a list of n numbers. These list of number often represent some \"data\" which needs to be analyzed. \n",
    "\n",
    "In this course, we would refresh all of these interpretations and try to connect them in a coherent manner. We would use the \"school\" interpretation of vectors to help visualize and understand \"university-fresher\" and \"engineer\" representation. Another point to be noted is that this course is bit leaning towards the \"university-fresher\" representation of the matrix as it forms basis of linear algebra. Some resources pertaining other interpretations are listed below in this document."
   ]
  },
  {
   "cell_type": "markdown",
   "metadata": {},
   "source": [
    "**What is a vector?**\n",
    "\n",
    "Vector is a special entity which can be added together and multiplied by scalars to produce another object which is also a vector.\n",
    "\n",
    "- Geometric Vectors - Two geometric vectors $\\textbf{x},\\textbf{y}$ can be added leading to another vector $\\textbf{z}$. They can also be multiplied by a scalar $\\lambda \\in \\mathbb{R}$ and the result is again a vector. Therefor geometric vectors are instances of the vector concepts defined above.\n",
    "\n",
    "- Polynomials ??\n",
    "    - Addition of two polynomials result in another polynomial\n",
    "    - Multiplication of a polynomial with a scalar also results in a polynomial\n",
    "    - Most importantly, elements of $\\mathbb{R}^{n}$, the tuple of n real numbers are also vectors.\n",
    "    \n",
    "<img src=\"./images/chap2/Vectors_Polynomials.png\" width=600 height=300 >    "
   ]
  },
  {
   "cell_type": "markdown",
   "metadata": {},
   "source": [
    "**Closure of space**\n",
    "\n",
    "One of the interesting ideas in algebra, or more generally in mathematics is \"closure\". It means what are the set of entities which can be obtained after performing the proposed operations. In the context of vectors, what are the set of vectors we obtain starting with a small set of vectors, adding them to each other and scaling them. This is called **vector space**.\n",
    "\n",
    "**The concept of vector space forms the basis of much of machine learning**\n"
   ]
  },
  {
   "cell_type": "markdown",
   "metadata": {},
   "source": [
    "**System of linear equations and how to solve them ?**\n",
    "\n",
    "Why are we learning this ? \n",
    "\n",
    "Because it helps to :-\n",
    "\n",
    "- Determine if the set of vectors are linearly dependent\n",
    "- Determine the rank of a matrix\n",
    "- Determine the basis of vector space\n",
    "- Computer determinent of a matrix\n",
    "\n",
    "What would we learn in this section ?\n",
    "\n",
    "- Particular and general solutions to the equation\n",
    "- Importance of Row Echelon and Reduced Row Echelon Form of a matrix\n",
    "- Gauss Elimination"
   ]
  },
  {
   "cell_type": "markdown",
   "metadata": {},
   "source": [
    "A set of equations can have unique solution, no solution or infinitely many solutions.\n",
    "\n",
    "Set 1\n",
    "$$ x_{1} + x_{2} + x_{3} = 3  $$\n",
    "$$ x_{1} - x_{2} + 2x_{3} = 2 $$\n",
    "$$ 2x_{1} + 3x_{3} = 1 $$\n",
    "\n",
    "Set 2\n",
    "$$ x_{1} + x_{2} + x_{3} = 3  $$\n",
    "$$ x_{1} - x_{2} + 2x_{3} = 2 $$\n",
    "$$ x_{2} + x_{3} = 2 $$\n",
    "\n",
    "Set 3\n",
    "$$ x_{1} + x_{2} + x_{3} = 3  $$\n",
    "$$ x_{1} - 2x_{2} + x_{3} = 2 $$\n",
    "$$ 2x_{1} + 3x_{3} = 5 $$"
   ]
  },
  {
   "cell_type": "markdown",
   "metadata": {},
   "source": [
    "Let us change the way we write the above equations\n",
    "\n",
    "\\begin{align}\n",
    "x_{1}\\begin{pmatrix}a_{11}\\\\\\vdots\\\\a_{m1}\\end{pmatrix}+x_{2}\\begin{pmatrix}a_{12}\\\\\\vdots\\\\a_{m2}\\end{pmatrix}+\\cdots+x_{n}\\begin{pmatrix}a_{1n}\\\\\\vdots\\\\a_{mn}\\end{pmatrix} = \\begin{pmatrix}b_{1}\\\\\\vdots\\\\b_{m}\\end{pmatrix}\n",
    "\\end{align}\n",
    "\n"
   ]
  },
  {
   "cell_type": "code",
   "execution_count": null,
   "metadata": {},
   "outputs": [],
   "source": []
  }
 ],
 "metadata": {
  "kernelspec": {
   "display_name": "Python 2",
   "language": "python",
   "name": "python2"
  },
  "language_info": {
   "codemirror_mode": {
    "name": "ipython",
    "version": 2
   },
   "file_extension": ".py",
   "mimetype": "text/x-python",
   "name": "python",
   "nbconvert_exporter": "python",
   "pygments_lexer": "ipython2",
   "version": "2.7.13"
  }
 },
 "nbformat": 4,
 "nbformat_minor": 2
}
